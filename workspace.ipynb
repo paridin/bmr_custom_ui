{
 "cells": [
  {
   "cell_type": "code",
   "execution_count": 1,
   "metadata": {
    "collapsed": true
   },
   "outputs": [],
   "source": [
    "import pandas as pd\n",
    "from utils import get_engine, get_field_type"
   ]
  },
  {
   "cell_type": "code",
   "execution_count": 2,
   "metadata": {
    "collapsed": true
   },
   "outputs": [],
   "source": [
    "brm = {\n",
    "    'username': 'brmapp01',\n",
    "    'password': 'brmapp01',\n",
    "    'sid': 'BBRMPAZT',\n",
    "    'host': '10.216.48.27', # des\n",
    "    'port': 1521\n",
    "}\n",
    "engine = get_engine(brm)"
   ]
  },
  {
   "cell_type": "code",
   "execution_count": 3,
   "metadata": {
    "collapsed": true,
    "scrolled": true
   },
   "outputs": [],
   "source": [
    "def get_oob_fields():\n",
    "    \"\"\"Return BRM OOB fields.\"\"\"\n",
    "    query=\"\"\"SELECT  field_name, field_type type_id FROM dd_objects_fields_t\"\"\"\n",
    "    fields = pd.read_sql(query, engine)\n",
    "    fields['type_name'] = fields.type_id.apply(get_field_type)\n",
    "    return fields"
   ]
  },
  {
   "cell_type": "code",
   "execution_count": 4,
   "metadata": {
    "collapsed": true
   },
   "outputs": [],
   "source": [
    "def get_custom_fields():\n",
    "    \"\"\"Returns BRM Custom fields.\"\"\"\n",
    "    query=\"\"\"SELECT  field_name, field_type type_id, field_num FROM dd_fields_t\"\"\"\n",
    "    fields = pd.read_sql(query, engine)\n",
    "    fields['type_name'] = fields.type_id.apply(get_field_type)\n",
    "    return fields"
   ]
  },
  {
   "cell_type": "code",
   "execution_count": 5,
   "metadata": {
    "collapsed": true,
    "scrolled": false
   },
   "outputs": [],
   "source": [
    "def get_brm_fields():\n",
    "    \"\"\"Returns BRM fields\"\"\"\n",
    "    # get brm fields \n",
    "    fields_oob = get_oob_fields()\n",
    "    fields_custom = get_custom_fields()\n",
    "    # merge oob and custom fields, fill nulls with 0 and cast field number as integer\n",
    "    fields = fields_oob.append(fields_custom)\n",
    "    fields.field_num.fillna(0, inplace=True)\n",
    "    fields.field_num = fields.field_num.astype(int)\n",
    "    return fields"
   ]
  },
  {
   "cell_type": "code",
   "execution_count": 33,
   "metadata": {
    "collapsed": true
   },
   "outputs": [],
   "source": [
    "fields_oob = get_oob_fields()"
   ]
  },
  {
   "cell_type": "code",
   "execution_count": 34,
   "metadata": {},
   "outputs": [
    {
     "name": "stdout",
     "output_type": "stream",
     "text": [
      "Wall time: 745 ms\n"
     ]
    }
   ],
   "source": [
    "%time fields = get_brm_fields()\n",
    "fields.drop_duplicates('field_name', inplace=True)"
   ]
  },
  {
   "cell_type": "code",
   "execution_count": 35,
   "metadata": {},
   "outputs": [
    {
     "data": {
      "text/html": [
       "<div>\n",
       "<style>\n",
       "    .dataframe thead tr:only-child th {\n",
       "        text-align: right;\n",
       "    }\n",
       "\n",
       "    .dataframe thead th {\n",
       "        text-align: left;\n",
       "    }\n",
       "\n",
       "    .dataframe tbody tr th {\n",
       "        vertical-align: top;\n",
       "    }\n",
       "</style>\n",
       "<table border=\"1\" class=\"dataframe\">\n",
       "  <thead>\n",
       "    <tr style=\"text-align: right;\">\n",
       "      <th></th>\n",
       "      <th>field_name</th>\n",
       "      <th>field_num</th>\n",
       "      <th>type_id</th>\n",
       "      <th>type_name</th>\n",
       "    </tr>\n",
       "  </thead>\n",
       "  <tbody>\n",
       "    <tr>\n",
       "      <th>249</th>\n",
       "      <td>TPL_FLD_EXCH_RATE_OFICIAL</td>\n",
       "      <td>10058</td>\n",
       "      <td>14</td>\n",
       "      <td>PIN_FLDT_DECIMAL</td>\n",
       "    </tr>\n",
       "    <tr>\n",
       "      <th>253</th>\n",
       "      <td>TPL_FLD_EXCH_RATE_BASE</td>\n",
       "      <td>10057</td>\n",
       "      <td>14</td>\n",
       "      <td>PIN_FLDT_DECIMAL</td>\n",
       "    </tr>\n",
       "    <tr>\n",
       "      <th>257</th>\n",
       "      <td>TPL_FLD_EXCHANGE_RATE</td>\n",
       "      <td>10059</td>\n",
       "      <td>14</td>\n",
       "      <td>PIN_FLDT_DECIMAL</td>\n",
       "    </tr>\n",
       "  </tbody>\n",
       "</table>\n",
       "</div>"
      ],
      "text/plain": [
       "                    field_name  field_num  type_id         type_name\n",
       "249  TPL_FLD_EXCH_RATE_OFICIAL      10058       14  PIN_FLDT_DECIMAL\n",
       "253     TPL_FLD_EXCH_RATE_BASE      10057       14  PIN_FLDT_DECIMAL\n",
       "257      TPL_FLD_EXCHANGE_RATE      10059       14  PIN_FLDT_DECIMAL"
      ]
     },
     "execution_count": 35,
     "metadata": {},
     "output_type": "execute_result"
    }
   ],
   "source": [
    "fields[(fields.field_name.str.contains('exch'.upper())) & \n",
    "       (fields.type_name == 'PIN_FLDT_DECIMAL'.upper())]"
   ]
  },
  {
   "cell_type": "code",
   "execution_count": null,
   "metadata": {
    "collapsed": true
   },
   "outputs": [],
   "source": []
  },
  {
   "cell_type": "code",
   "execution_count": null,
   "metadata": {
    "collapsed": true
   },
   "outputs": [],
   "source": []
  },
  {
   "cell_type": "code",
   "execution_count": null,
   "metadata": {
    "collapsed": true
   },
   "outputs": [],
   "source": []
  },
  {
   "cell_type": "code",
   "execution_count": 32,
   "metadata": {
    "collapsed": true
   },
   "outputs": [
    {
     "ename": "NameError",
     "evalue": "name 'PIN_FLD_CONTENT_PROVIDER' is not defined",
     "output_type": "error",
     "traceback": [
      "\u001b[1;31m---------------------------------------------------------------------------\u001b[0m",
      "\u001b[1;31mNameError\u001b[0m                                 Traceback (most recent call last)",
      "\u001b[1;32m<ipython-input-32-c9708b0dd159>\u001b[0m in \u001b[0;36m<module>\u001b[1;34m()\u001b[0m\n\u001b[1;32m----> 1\u001b[1;33m \u001b[0mPIN_FLD_CONTENT_PROVIDER\u001b[0m\u001b[1;33m\u001b[0m\u001b[0m\n\u001b[0m\u001b[0;32m      2\u001b[0m \u001b[1;33m\u001b[0m\u001b[0m\n\u001b[0;32m      3\u001b[0m \u001b[0mPIN_FLD_CONTENT_CATEGORY_NAME\u001b[0m\u001b[1;33m\u001b[0m\u001b[0m\n",
      "\u001b[1;31mNameError\u001b[0m: name 'PIN_FLD_CONTENT_PROVIDER' is not defined"
     ]
    }
   ],
   "source": [
    "PIN_FLD_CONTENT_PROVIDER\n",
    "\n",
    "PIN_FLD_CONTENT_CATEGORY_NAME"
   ]
  },
  {
   "cell_type": "code",
   "execution_count": null,
   "metadata": {
    "collapsed": true
   },
   "outputs": [],
   "source": []
  }
 ],
 "metadata": {
  "kernelspec": {
   "display_name": "Python 3",
   "language": "python",
   "name": "python3"
  },
  "language_info": {
   "codemirror_mode": {
    "name": "ipython",
    "version": 3
   },
   "file_extension": ".py",
   "mimetype": "text/x-python",
   "name": "python",
   "nbconvert_exporter": "python",
   "pygments_lexer": "ipython3",
   "version": "3.6.3"
  }
 },
 "nbformat": 4,
 "nbformat_minor": 2
}
